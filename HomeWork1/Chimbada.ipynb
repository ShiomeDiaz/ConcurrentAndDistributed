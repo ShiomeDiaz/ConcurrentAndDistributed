{
  "cells": [
    {
      "cell_type": "markdown",
      "metadata": {
        "id": "RNxyD-Csc8iW"
      },
      "source": [
        "**Taller 1 Concurrente y distribuida Luis Felipe Giraldo Diaz**\n"
      ]
    },
    {
      "cell_type": "markdown",
      "metadata": {
        "id": "wwGkhjQOdYVp"
      },
      "source": [
        "1)Dado un arreglo NumPy de dos dimensiones, ¿cómo se calcula la multiplicación de las filas y columnas?"
      ]
    },
    {
      "cell_type": "markdown",
      "metadata": {
        "id": "STZuFhGVe9ex"
      },
      "source": [
        "R: En un array de dos dimensiones la multiplicacion de filas se genera al multiplicar cada uno integrantes de cada fila este producto se almacenara en la posicion que corresponde su columna, Ejemplo la fila 2 es 4*5*6 = 120 y se ubicara en la posicion 2 del array resultado de 1 dimension.\n",
        "\n",
        "Mientras que en la multiplicacion de columnas el resultado se ubicara en la posicion correspondiente de la fila multiplicada, ejemplo para la columna 3 tenemos 3*6*9 = 162 unicado en la posicion 3 del array resultado ya que multiplicamos la columna 3."
      ]
    },
    {
      "cell_type": "code",
      "execution_count": 2,
      "metadata": {
        "colab": {
          "base_uri": "https://localhost:8080/"
        },
        "id": "_3URtPmCcrrP",
        "outputId": "19281dc3-e633-405d-b116-fc177d757887"
      },
      "outputs": [
        {
          "name": "stdout",
          "output_type": "stream",
          "text": [
            "Multiplicación de las filas: [  6 120 504]\n",
            "Multiplicación de las columnas: [ 28  80 162]\n"
          ]
        }
      ],
      "source": [
        "import numpy as np\n",
        "\n",
        "\n",
        "matrix = np.array([[1, 2, 3],\n",
        "                [4, 5, 6],\n",
        "                [7, 8, 9]])\n",
        "\n",
        "prod_row = np.prod(matrix, axis=1)\n",
        "prod_column = np.prod(matrix, axis=0)\n",
        "\n",
        "print(\"Multiplicación de las filas:\", prod_row)\n",
        "print(\"Multiplicación de las columnas:\", prod_column)\n"
      ]
    },
    {
      "cell_type": "markdown",
      "metadata": {
        "id": "Qzs0LUUIgVW8"
      },
      "source": [
        "2)¿Cómo se puede crear una función en Sympy que calcule la derivada de una función simbólica?"
      ]
    },
    {
      "cell_type": "code",
      "execution_count": 3,
      "metadata": {
        "colab": {
          "base_uri": "https://localhost:8080/"
        },
        "id": "rFKtZPdcgrQT",
        "outputId": "b4184741-0c8d-4696-dce5-737986929c43"
      },
      "outputs": [
        {
          "name": "stdout",
          "output_type": "stream",
          "text": [
            "La derivada de f es: 2*x + 4\n"
          ]
        }
      ],
      "source": [
        "import sympy as sp\n",
        "from sympy import init_printing\n",
        "\n",
        "init_printing(use_latex=True)\n",
        "x = sp.Symbol('x')\n",
        "f = x**2 + 4*x + 5\n",
        "\n",
        "def calcular_derivada(funcion, variable):\n",
        "    return sp.diff(funcion, variable)\n",
        "\n",
        "d = calcular_derivada(f, x)\n",
        "\n",
        "print(\"La derivada de f es:\", d)\n"
      ]
    },
    {
      "cell_type": "code",
      "execution_count": 4,
      "metadata": {
        "colab": {
          "base_uri": "https://localhost:8080/",
          "height": 38
        },
        "id": "vIi7yEgmhDzO",
        "outputId": "d89cde89-bf3f-481a-b2c5-f1749009eb49"
      },
      "outputs": [
        {
          "data": {
            "text/latex": [
              "$\\displaystyle 2 x + 4$"
            ],
            "text/plain": [
              "2⋅x + 4"
            ]
          },
          "execution_count": 4,
          "metadata": {},
          "output_type": "execute_result"
        }
      ],
      "source": [
        "d"
      ]
    },
    {
      "cell_type": "markdown",
      "metadata": {
        "id": "OWr4T7l5t8QZ"
      },
      "source": [
        "3)¿Cómo se pueden unir dos DataFrames en Pandas utilizando una columna común? (merge)"
      ]
    },
    {
      "cell_type": "markdown",
      "metadata": {
        "id": "TMfEBl7Fu_pF"
      },
      "source": [
        "En este ejemplo, se combinan los DataFrames df1 y df2 utilizando la columna 'id' como clave de unión, mediante un inner join (intersección de las dos tablas). El resultado merged contiene las filas donde los valores de 'id' coinciden en ambos DataFrames."
      ]
    },
    {
      "cell_type": "code",
      "execution_count": 5,
      "metadata": {
        "colab": {
          "base_uri": "https://localhost:8080/"
        },
        "id": "Am-4h-JQt61N",
        "outputId": "3e96f633-562c-4e13-f199-81fc840cfabf"
      },
      "outputs": [
        {
          "name": "stdout",
          "output_type": "stream",
          "text": [
            "   id nombre  edad\n",
            "0   2  María    25\n",
            "1   3  Pedro    30\n"
          ]
        }
      ],
      "source": [
        "import pandas as pd\n",
        "\n",
        "# Creamos dos DataFrames de ejemplo\n",
        "df1 = pd.DataFrame({'id': [1, 2, 3], 'nombre': ['Juan', 'María', 'Pedro']})\n",
        "df2 = pd.DataFrame({'id': [2, 3, 4], 'edad': [25, 30, 35]})\n",
        "\n",
        "# Unimos los DataFrames utilizando la columna 'id'\n",
        "merged = pd.merge(df1, df2, on='id', how='inner')\n",
        "\n",
        "print(merged)\n"
      ]
    },
    {
      "cell_type": "markdown",
      "metadata": {
        "id": "YhfA85Or7iD5"
      },
      "source": [
        "4) ¿Cómo se pueden agregar N columna de datos a un DataFrames en Pandas?"
      ]
    },
    {
      "cell_type": "code",
      "execution_count": 6,
      "metadata": {
        "colab": {
          "base_uri": "https://localhost:8080/"
        },
        "id": "0oBIlzTm7i2V",
        "outputId": "2a14ea53-33a3-407b-b322-7856a6a6db8e"
      },
      "outputs": [
        {
          "name": "stdout",
          "output_type": "stream",
          "text": [
            "Enfermitos sas:\n",
            "     Nombre    apellido  edad  Enfermedad\n",
            "0     Topo  castrillon    23  patecumbia\n",
            "1   Lorena     naranjo    22       Mujer\n",
            "2  Manuela        pava    23      Anemia\n",
            "3    lucho        Diaz    25     la yeva\n",
            "4    David  De naranjo    25      roncon\n"
          ]
        }
      ],
      "source": [
        "import pandas as pd\n",
        "\n",
        "enfermitos = {\n",
        "    'Nombre': ['Topo', 'Lorena', 'Manuela', 'lucho'],\n",
        "    'apellido': ['castrillon', 'naranjo', 'pava', 'Diaz'],\n",
        "    'edad': [23, 22, 23, 25],\n",
        "    'Enfermedad': ['patecumbia', 'Mujer', 'Anemia', 'la yeva'],\n",
        "}\n",
        "\n",
        "enfermito = {\n",
        "    'Nombre': ['David'],\n",
        "    'apellido': ['De naranjo'],\n",
        "    'edad': [25],\n",
        "    'Enfermedad': ['roncon'],\n",
        "}\n",
        "\n",
        "df = pd.DataFrame(enfermitos)\n",
        "df2 = pd.DataFrame(enfermito)\n",
        "\n",
        "# Método 1: Asignar el resultado de append() a una nueva variable\n",
        "df_nuevo = pd.concat([df,df2], ignore_index=True)\n",
        "\n",
        "print(\"Enfermitos sas:\\n\", df_nuevo)\n",
        "\n"
      ]
    },
    {
      "cell_type": "markdown",
      "metadata": {
        "id": "MtQ-DSkXAfr9"
      },
      "source": [
        "5)¿Cómo se puede graficar una función en Matplotlib utilizando el método subplot para mostrar varias gráficas en una misma figura?"
      ]
    },
    {
      "cell_type": "code",
      "execution_count": 5,
      "metadata": {
        "colab": {
          "base_uri": "https://localhost:8080/",
          "height": 487
        },
        "id": "gSgGZD57AgGd",
        "outputId": "02648768-7d18-4236-9e4a-91859e534321"
      },
      "outputs": [
        {
          "data": {
            "image/png": "[encoded data removed]",
            "text/plain": [
              "<Figure size 640x480 with 3 Axes>"
            ]
          },
          "metadata": {},
          "output_type": "display_data"
        }
      ],
      "source": [
        "import matplotlib.pyplot as plt\n",
        "import numpy as np\n",
        "\n",
        "# Crear datos para graficar\n",
        "x = np.linspace(0, 10, 100)\n",
        "y1 = np.sin(x)\n",
        "y2 = np.cos(x)\n",
        "y3 = np.tan(x)\n",
        "\n",
        "# Crear una figura y subgráficas\n",
        "fig, axs = plt.subplots(3)\n",
        "\n",
        "# Graficar en la primera subgráfica\n",
        "axs[0].plot(x, y1)\n",
        "axs[0].set_title('Seno')\n",
        "\n",
        "# Graficar en la segunda subgráfica\n",
        "axs[1].plot(x, y2)\n",
        "axs[1].set_title('Coseno')\n",
        "\n",
        "# Graficar en la tercera subgráfica\n",
        "axs[2].plot(x, y3)\n",
        "axs[2].set_title('Tangente')\n",
        "\n",
        "# Ajustar el diseño de las subgráficas\n",
        "plt.tight_layout()\n",
        "\n",
        "# Mostrar la figura\n",
        "plt.show()\n"
      ]
    },
    {
      "cell_type": "markdown",
      "metadata": {
        "id": "P6l0mocUA6zH"
      },
      "source": [
        "6)¿Cómo se puede encontrar el número de elementos distintos en un arreglo NumPy?"
      ]
    },
    {
      "cell_type": "code",
      "execution_count": 4,
      "metadata": {
        "colab": {
          "base_uri": "https://localhost:8080/"
        },
        "id": "xllOXCetA7Gr",
        "outputId": "23ceda29-4e21-47af-9156-a810fd72eb3e"
      },
      "outputs": [
        {
          "name": "stdout",
          "output_type": "stream",
          "text": [
            "Número de elementos distintos: 7\n"
          ]
        }
      ],
      "source": [
        "import numpy as np\n",
        "\n",
        "# Crear un arreglo NumPy\n",
        "arr = np.array([1, 2, 3, 4, 2, 3, 4, 5, 6, 7, 1])\n",
        "\n",
        "# Encontrar los valores únicos y su conteo\n",
        "valores_unicos, conteo = np.unique(arr, return_counts=True)\n",
        "\n",
        "# Calcular el número de elementos distintos\n",
        "num_elementos_distintos = len(valores_unicos)\n",
        "\n",
        "print(\"Número de elementos distintos:\", num_elementos_distintos)\n"
      ]
    },
    {
      "cell_type": "markdown",
      "metadata": {
        "id": "9wjls9uLBQZS"
      },
      "source": [
        "7)¿Cómo se puede calcular la integral de una función en Sympy? Realizar 3 ejemplos a mano (subir las fotos), adicionalmente utiliza Python para calcular las mismas integrales."
      ]
    },
    {
      "cell_type": "code",
      "execution_count": null,
      "metadata": {
        "id": "YN5olKmPBQ40"
      },
      "outputs": [],
      "source": []
    },
    {
      "cell_type": "markdown",
      "metadata": {
        "id": "ursSi268BmIk"
      },
      "source": [
        "8)¿Cómo se puede aplicar una función a los valores de una columna en un DataFrame de Pandas?\n"
      ]
    },
    {
      "cell_type": "markdown",
      "metadata": {
        "id": "apKS082CvZjZ"
      },
      "source": [
        "21)"
      ]
    },
    {
      "cell_type": "code",
      "execution_count": 3,
      "metadata": {
        "id": "WsKpI1cdvZH8"
      },
      "outputs": [
        {
          "ename": "ValueError",
          "evalue": "invalid literal for int() with base 10: ''",
          "output_type": "error",
          "traceback": [
            "\u001b[0;31m---------------------------------------------------------------------------\u001b[0m",
            "\u001b[0;31mValueError\u001b[0m                                Traceback (most recent call last)",
            "Cell \u001b[0;32mIn[3], line 7\u001b[0m\n\u001b[1;32m      4\u001b[0m     \u001b[38;5;28;01mreturn\u001b[39;00m \u001b[38;5;28msum\u001b[39m(notas) \u001b[38;5;241m/\u001b[39m \u001b[38;5;28mlen\u001b[39m(notas)\n\u001b[1;32m      6\u001b[0m \u001b[38;5;66;03m# Pedir al usuario el número de estudiantes\u001b[39;00m\n\u001b[0;32m----> 7\u001b[0m N \u001b[38;5;241m=\u001b[39m \u001b[38;5;28;43mint\u001b[39;49m\u001b[43m(\u001b[49m\u001b[38;5;28;43minput\u001b[39;49m\u001b[43m(\u001b[49m\u001b[38;5;124;43m\"\u001b[39;49m\u001b[38;5;124;43mIngrese el número de estudiantes: \u001b[39;49m\u001b[38;5;124;43m\"\u001b[39;49m\u001b[43m)\u001b[49m\u001b[43m)\u001b[49m\n\u001b[1;32m      9\u001b[0m \u001b[38;5;66;03m# Crear una lista para almacenar los datos de los estudiantes\u001b[39;00m\n\u001b[1;32m     10\u001b[0m datos_estudiantes \u001b[38;5;241m=\u001b[39m []\n",
            "\u001b[0;31mValueError\u001b[0m: invalid literal for int() with base 10: ''"
          ]
        }
      ],
      "source": [
        "import pandas as pd\n",
        "\n",
        "def calcular_promedio(notas):\n",
        "    return sum(notas) / len(notas)\n",
        "\n",
        "# Pedir al usuario el número de estudiantes\n",
        "N = int(input(\"Ingrese el número de estudiantes: \"))\n",
        "\n",
        "# Crear una lista para almacenar los datos de los estudiantes\n",
        "datos_estudiantes = []\n",
        "\n",
        "# Pedir las notas de cada estudiante\n",
        "for i in range(N):\n",
        "    nombre = input(f\"Ingrese el nombre o ID del estudiante {i+1}: \")\n",
        "    notas = []\n",
        "    for j in range(3):  # Suponiendo que se ingresan 3 notas por estudiante\n",
        "        nota = float(input(f\"Ingrese la nota {j+1} del estudiante {nombre}: \"))\n",
        "        notas.append(nota)\n",
        "\n",
        "    promedio = calcular_promedio(notas)\n",
        "    datos_estudiantes.append({'Nombre o ID': nombre, 'Nota 1': notas[0], 'Nota 2': notas[1], 'Nota 3': notas[2], 'Promedio': promedio})\n",
        "\n",
        "# Crear un DataFrame con los datos de los estudiantes\n",
        "df = pd.DataFrame(datos_estudiantes)\n",
        "\n",
        "# Encontrar la mejor y la peor nota con su respectivo nombre o ID\n",
        "mejor_nota = df.loc[df['Promedio'].idxmax()]\n",
        "peor_nota = df.loc[df['Promedio'].idxmin()]\n",
        "\n",
        "# Mostrar los resultados\n",
        "print(\"\\nMejor nota:\")\n",
        "print(mejor_nota[['Nombre o ID', 'Promedio']])\n",
        "print(\"\\nPeor nota:\")\n",
        "print(peor_nota[['Nombre o ID', 'Promedio']])\n"
      ]
    },
    {
      "cell_type": "code",
      "execution_count": 6,
      "metadata": {
        "id": "cFE7qW7AvX1j"
      },
      "outputs": [
        {
          "data": {
            "application/vnd.plotly.v1+json": {
              "config": {
                "plotlyServerURL": "https://plot.ly"
              },
              "data": [
                {
                  "type": "surface",
                  "x": [
                    [
                      -5,
                      -4,
                      -3,
                      -2,
                      -1,
                      0,
                      1,
                      2,
                      3,
                      4,
                      5
                    ],
                    [
                      -5,
                      -4,
                      -3,
                      -2,
                      -1,
                      0,
                      1,
                      2,
                      3,
                      4,
                      5
                    ],
                    [
                      -5,
                      -4,
                      -3,
                      -2,
                      -1,
                      0,
                      1,
                      2,
                      3,
                      4,
                      5
                    ],
                    [
                      -5,
                      -4,
                      -3,
                      -2,
                      -1,
                      0,
                      1,
                      2,
                      3,
                      4,
                      5
                    ],
                    [
                      -5,
                      -4,
                      -3,
                      -2,
                      -1,
                      0,
                      1,
                      2,
                      3,
                      4,
                      5
                    ],
                    [
                      -5,
                      -4,
                      -3,
                      -2,
                      -1,
                      0,
                      1,
                      2,
                      3,
                      4,
                      5
                    ],
                    [
                      -5,
                      -4,
                      -3,
                      -2,
                      -1,
                      0,
                      1,
                      2,
                      3,
                      4,
                      5
                    ],
                    [
                      -5,
                      -4,
                      -3,
                      -2,
                      -1,
                      0,
                      1,
                      2,
                      3,
                      4,
                      5
                    ],
                    [
                      -5,
                      -4,
                      -3,
                      -2,
                      -1,
                      0,
                      1,
                      2,
                      3,
                      4,
                      5
                    ],
                    [
                      -5,
                      -4,
                      -3,
                      -2,
                      -1,
                      0,
                      1,
                      2,
                      3,
                      4,
                      5
                    ],
                    [
                      -5,
                      -4,
                      -3,
                      -2,
                      -1,
                      0,
                      1,
                      2,
                      3,
                      4,
                      5
                    ]
                  ],
                  "y": [
                    [
                      -5,
                      -5,
                      -5,
                      -5,
                      -5,
                      -5,
                      -5,
                      -5,
                      -5,
                      -5,
                      -5
                    ],
                    [
                      -4,
                      -4,
                      -4,
                      -4,
                      -4,
                      -4,
                      -4,
                      -4,
                      -4,
                      -4,
                      -4
                    ],
                    [
                      -3,
                      -3,
                      -3,
                      -3,
                      -3,
                      -3,
                      -3,
                      -3,
                      -3,
                      -3,
                      -3
                    ],
                    [
                      -2,
                      -2,
                      -2,
                      -2,
                      -2,
                      -2,
                      -2,
                      -2,
                      -2,
                      -2,
                      -2
                    ],
                    [
                      -1,
                      -1,
                      -1,
                      -1,
                      -1,
                      -1,
                      -1,
                      -1,
                      -1,
                      -1,
                      -1
                    ],
                    [
                      0,
                      0,
                      0,
                      0,
                      0,
                      0,
                      0,
                      0,
                      0,
                      0,
                      0
                    ],
                    [
                      1,
                      1,
                      1,
                      1,
                      1,
                      1,
                      1,
                      1,
                      1,
                      1,
                      1
                    ],
                    [
                      2,
                      2,
                      2,
                      2,
                      2,
                      2,
                      2,
                      2,
                      2,
                      2,
                      2
                    ],
                    [
                      3,
                      3,
                      3,
                      3,
                      3,
                      3,
                      3,
                      3,
                      3,
                      3,
                      3
                    ],
                    [
                      4,
                      4,
                      4,
                      4,
                      4,
                      4,
                      4,
                      4,
                      4,
                      4,
                      4
                    ],
                    [
                      5,
                      5,
                      5,
                      5,
                      5,
                      5,
                      5,
                      5,
                      5,
                      5,
                      5
                    ]
                  ],
                  "z": [
                    [
                      50,
                      41,
                      34,
                      29,
                      26,
                      25,
                      26,
                      29,
                      34,
                      41,
                      50
                    ],
                    [
                      41,
                      32,
                      25,
                      20,
                      17,
                      16,
                      17,
                      20,
                      25,
                      32,
                      41
                    ],
                    [
                      34,
                      25,
                      18,
                      13,
                      10,
                      9,
                      10,
                      13,
                      18,
                      25,
                      34
                    ],
                    [
                      29,
                      20,
                      13,
                      8,
                      5,
                      4,
                      5,
                      8,
                      13,
                      20,
                      29
                    ],
                    [
                      26,
                      17,
                      10,
                      5,
                      2,
                      1,
                      2,
                      5,
                      10,
                      17,
                      26
                    ],
                    [
                      25,
                      16,
                      9,
                      4,
                      1,
                      0,
                      1,
                      4,
                      9,
                      16,
                      25
                    ],
                    [
                      26,
                      17,
                      10,
                      5,
                      2,
                      1,
                      2,
                      5,
                      10,
                      17,
                      26
                    ],
                    [
                      29,
                      20,
                      13,
                      8,
                      5,
                      4,
                      5,
                      8,
                      13,
                      20,
                      29
                    ],
                    [
                      34,
                      25,
                      18,
                      13,
                      10,
                      9,
                      10,
                      13,
                      18,
                      25,
                      34
                    ],
                    [
                      41,
                      32,
                      25,
                      20,
                      17,
                      16,
                      17,
                      20,
                      25,
                      32,
                      41
                    ],
                    [
                      50,
                      41,
                      34,
                      29,
                      26,
                      25,
                      26,
                      29,
                      34,
                      41,
                      50
                    ]
                  ]
                }
              ],
              "layout": {
                "scene": {
                  "xaxis": {
                    "title": {
                      "text": "X"
                    }
                  },
                  "yaxis": {
                    "title": {
                      "text": "Y"
                    }
                  },
                  "zaxis": {
                    "title": {
                      "text": "Z"
                    }
                  }
                },
                "template": {
                  "data": {
                    "bar": [
                      {
                        "error_x": {
                          "color": "#2a3f5f"
                        },
                        "error_y": {
                          "color": "#2a3f5f"
                        },
                        "marker": {
                          "line": {
                            "color": "#E5ECF6",
                            "width": 0.5
                          },
                          "pattern": {
                            "fillmode": "overlay",
                            "size": 10,
                            "solidity": 0.2
                          }
                        },
                        "type": "bar"
                      }
                    ],
                    "barpolar": [
                      {
                        "marker": {
                          "line": {
                            "color": "#E5ECF6",
                            "width": 0.5
                          },
                          "pattern": {
                            "fillmode": "overlay",
                            "size": 10,
                            "solidity": 0.2
                          }
                        },
                        "type": "barpolar"
                      }
                    ],
                    "carpet": [
                      {
                        "aaxis": {
                          "endlinecolor": "#2a3f5f",
                          "gridcolor": "white",
                          "linecolor": "white",
                          "minorgridcolor": "white",
                          "startlinecolor": "#2a3f5f"
                        },
                        "baxis": {
                          "endlinecolor": "#2a3f5f",
                          "gridcolor": "white",
                          "linecolor": "white",
                          "minorgridcolor": "white",
                          "startlinecolor": "#2a3f5f"
                        },
                        "type": "carpet"
                      }
                    ],
                    "choropleth": [
                      {
                        "colorbar": {
                          "outlinewidth": 0,
                          "ticks": ""
                        },
                        "type": "choropleth"
                      }
                    ],
                    "contour": [
                      {
                        "colorbar": {
                          "outlinewidth": 0,
                          "ticks": ""
                        },
                        "colorscale": [
                          [
                            0,
                            "#0d0887"
                          ],
                          [
                            0.1111111111111111,
                            "#46039f"
                          ],
                          [
                            0.2222222222222222,
                            "#7201a8"
                          ],
                          [
                            0.3333333333333333,
                            "#9c179e"
                          ],
                          [
                            0.4444444444444444,
                            "#bd3786"
                          ],
                          [
                            0.5555555555555556,
                            "#d8576b"
                          ],
                          [
                            0.6666666666666666,
                            "#ed7953"
                          ],
                          [
                            0.7777777777777778,
                            "#fb9f3a"
                          ],
                          [
                            0.8888888888888888,
                            "#fdca26"
                          ],
                          [
                            1,
                            "#f0f921"
                          ]
                        ],
                        "type": "contour"
                      }
                    ],
                    "contourcarpet": [
                      {
                        "colorbar": {
                          "outlinewidth": 0,
                          "ticks": ""
                        },
                        "type": "contourcarpet"
                      }
                    ],
                    "heatmap": [
                      {
                        "colorbar": {
                          "outlinewidth": 0,
                          "ticks": ""
                        },
                        "colorscale": [
                          [
                            0,
                            "#0d0887"
                          ],
                          [
                            0.1111111111111111,
                            "#46039f"
                          ],
                          [
                            0.2222222222222222,
                            "#7201a8"
                          ],
                          [
                            0.3333333333333333,
                            "#9c179e"
                          ],
                          [
                            0.4444444444444444,
                            "#bd3786"
                          ],
                          [
                            0.5555555555555556,
                            "#d8576b"
                          ],
                          [
                            0.6666666666666666,
                            "#ed7953"
                          ],
                          [
                            0.7777777777777778,
                            "#fb9f3a"
                          ],
                          [
                            0.8888888888888888,
                            "#fdca26"
                          ],
                          [
                            1,
                            "#f0f921"
                          ]
                        ],
                        "type": "heatmap"
                      }
                    ],
                    "heatmapgl": [
                      {
                        "colorbar": {
                          "outlinewidth": 0,
                          "ticks": ""
                        },
                        "colorscale": [
                          [
                            0,
                            "#0d0887"
                          ],
                          [
                            0.1111111111111111,
                            "#46039f"
                          ],
                          [
                            0.2222222222222222,
                            "#7201a8"
                          ],
                          [
                            0.3333333333333333,
                            "#9c179e"
                          ],
                          [
                            0.4444444444444444,
                            "#bd3786"
                          ],
                          [
                            0.5555555555555556,
                            "#d8576b"
                          ],
                          [
                            0.6666666666666666,
                            "#ed7953"
                          ],
                          [
                            0.7777777777777778,
                            "#fb9f3a"
                          ],
                          [
                            0.8888888888888888,
                            "#fdca26"
                          ],
                          [
                            1,
                            "#f0f921"
                          ]
                        ],
                        "type": "heatmapgl"
                      }
                    ],
                    "histogram": [
                      {
                        "marker": {
                          "pattern": {
                            "fillmode": "overlay",
                            "size": 10,
                            "solidity": 0.2
                          }
                        },
                        "type": "histogram"
                      }
                    ],
                    "histogram2d": [
                      {
                        "colorbar": {
                          "outlinewidth": 0,
                          "ticks": ""
                        },
                        "colorscale": [
                          [
                            0,
                            "#0d0887"
                          ],
                          [
                            0.1111111111111111,
                            "#46039f"
                          ],
                          [
                            0.2222222222222222,
                            "#7201a8"
                          ],
                          [
                            0.3333333333333333,
                            "#9c179e"
                          ],
                          [
                            0.4444444444444444,
                            "#bd3786"
                          ],
                          [
                            0.5555555555555556,
                            "#d8576b"
                          ],
                          [
                            0.6666666666666666,
                            "#ed7953"
                          ],
                          [
                            0.7777777777777778,
                            "#fb9f3a"
                          ],
                          [
                            0.8888888888888888,
                            "#fdca26"
                          ],
                          [
                            1,
                            "#f0f921"
                          ]
                        ],
                        "type": "histogram2d"
                      }
                    ],
                    "histogram2dcontour": [
                      {
                        "colorbar": {
                          "outlinewidth": 0,
                          "ticks": ""
                        },
                        "colorscale": [
                          [
                            0,
                            "#0d0887"
                          ],
                          [
                            0.1111111111111111,
                            "#46039f"
                          ],
                          [
                            0.2222222222222222,
                            "#7201a8"
                          ],
                          [
                            0.3333333333333333,
                            "#9c179e"
                          ],
                          [
                            0.4444444444444444,
                            "#bd3786"
                          ],
                          [
                            0.5555555555555556,
                            "#d8576b"
                          ],
                          [
                            0.6666666666666666,
                            "#ed7953"
                          ],
                          [
                            0.7777777777777778,
                            "#fb9f3a"
                          ],
                          [
                            0.8888888888888888,
                            "#fdca26"
                          ],
                          [
                            1,
                            "#f0f921"
                          ]
                        ],
                        "type": "histogram2dcontour"
                      }
                    ],
                    "mesh3d": [
                      {
                        "colorbar": {
                          "outlinewidth": 0,
                          "ticks": ""
                        },
                        "type": "mesh3d"
                      }
                    ],
                    "parcoords": [
                      {
                        "line": {
                          "colorbar": {
                            "outlinewidth": 0,
                            "ticks": ""
                          }
                        },
                        "type": "parcoords"
                      }
                    ],
                    "pie": [
                      {
                        "automargin": true,
                        "type": "pie"
                      }
                    ],
                    "scatter": [
                      {
                        "fillpattern": {
                          "fillmode": "overlay",
                          "size": 10,
                          "solidity": 0.2
                        },
                        "type": "scatter"
                      }
                    ],
                    "scatter3d": [
                      {
                        "line": {
                          "colorbar": {
                            "outlinewidth": 0,
                            "ticks": ""
                          }
                        },
                        "marker": {
                          "colorbar": {
                            "outlinewidth": 0,
                            "ticks": ""
                          }
                        },
                        "type": "scatter3d"
                      }
                    ],
                    "scattercarpet": [
                      {
                        "marker": {
                          "colorbar": {
                            "outlinewidth": 0,
                            "ticks": ""
                          }
                        },
                        "type": "scattercarpet"
                      }
                    ],
                    "scattergeo": [
                      {
                        "marker": {
                          "colorbar": {
                            "outlinewidth": 0,
                            "ticks": ""
                          }
                        },
                        "type": "scattergeo"
                      }
                    ],
                    "scattergl": [
                      {
                        "marker": {
                          "colorbar": {
                            "outlinewidth": 0,
                            "ticks": ""
                          }
                        },
                        "type": "scattergl"
                      }
                    ],
                    "scattermapbox": [
                      {
                        "marker": {
                          "colorbar": {
                            "outlinewidth": 0,
                            "ticks": ""
                          }
                        },
                        "type": "scattermapbox"
                      }
                    ],
                    "scatterpolar": [
                      {
                        "marker": {
                          "colorbar": {
                            "outlinewidth": 0,
                            "ticks": ""
                          }
                        },
                        "type": "scatterpolar"
                      }
                    ],
                    "scatterpolargl": [
                      {
                        "marker": {
                          "colorbar": {
                            "outlinewidth": 0,
                            "ticks": ""
                          }
                        },
                        "type": "scatterpolargl"
                      }
                    ],
                    "scatterternary": [
                      {
                        "marker": {
                          "colorbar": {
                            "outlinewidth": 0,
                            "ticks": ""
                          }
                        },
                        "type": "scatterternary"
                      }
                    ],
                    "surface": [
                      {
                        "colorbar": {
                          "outlinewidth": 0,
                          "ticks": ""
                        },
                        "colorscale": [
                          [
                            0,
                            "#0d0887"
                          ],
                          [
                            0.1111111111111111,
                            "#46039f"
                          ],
                          [
                            0.2222222222222222,
                            "#7201a8"
                          ],
                          [
                            0.3333333333333333,
                            "#9c179e"
                          ],
                          [
                            0.4444444444444444,
                            "#bd3786"
                          ],
                          [
                            0.5555555555555556,
                            "#d8576b"
                          ],
                          [
                            0.6666666666666666,
                            "#ed7953"
                          ],
                          [
                            0.7777777777777778,
                            "#fb9f3a"
                          ],
                          [
                            0.8888888888888888,
                            "#fdca26"
                          ],
                          [
                            1,
                            "#f0f921"
                          ]
                        ],
                        "type": "surface"
                      }
                    ],
                    "table": [
                      {
                        "cells": {
                          "fill": {
                            "color": "#EBF0F8"
                          },
                          "line": {
                            "color": "white"
                          }
                        },
                        "header": {
                          "fill": {
                            "color": "#C8D4E3"
                          },
                          "line": {
                            "color": "white"
                          }
                        },
                        "type": "table"
                      }
                    ]
                  },
                  "layout": {
                    "annotationdefaults": {
                      "arrowcolor": "#2a3f5f",
                      "arrowhead": 0,
                      "arrowwidth": 1
                    },
                    "autotypenumbers": "strict",
                    "coloraxis": {
                      "colorbar": {
                        "outlinewidth": 0,
                        "ticks": ""
                      }
                    },
                    "colorscale": {
                      "diverging": [
                        [
                          0,
                          "#8e0152"
                        ],
                        [
                          0.1,
                          "#c51b7d"
                        ],
                        [
                          0.2,
                          "#de77ae"
                        ],
                        [
                          0.3,
                          "#f1b6da"
                        ],
                        [
                          0.4,
                          "#fde0ef"
                        ],
                        [
                          0.5,
                          "#f7f7f7"
                        ],
                        [
                          0.6,
                          "#e6f5d0"
                        ],
                        [
                          0.7,
                          "#b8e186"
                        ],
                        [
                          0.8,
                          "#7fbc41"
                        ],
                        [
                          0.9,
                          "#4d9221"
                        ],
                        [
                          1,
                          "#276419"
                        ]
                      ],
                      "sequential": [
                        [
                          0,
                          "#0d0887"
                        ],
                        [
                          0.1111111111111111,
                          "#46039f"
                        ],
                        [
                          0.2222222222222222,
                          "#7201a8"
                        ],
                        [
                          0.3333333333333333,
                          "#9c179e"
                        ],
                        [
                          0.4444444444444444,
                          "#bd3786"
                        ],
                        [
                          0.5555555555555556,
                          "#d8576b"
                        ],
                        [
                          0.6666666666666666,
                          "#ed7953"
                        ],
                        [
                          0.7777777777777778,
                          "#fb9f3a"
                        ],
                        [
                          0.8888888888888888,
                          "#fdca26"
                        ],
                        [
                          1,
                          "#f0f921"
                        ]
                      ],
                      "sequentialminus": [
                        [
                          0,
                          "#0d0887"
                        ],
                        [
                          0.1111111111111111,
                          "#46039f"
                        ],
                        [
                          0.2222222222222222,
                          "#7201a8"
                        ],
                        [
                          0.3333333333333333,
                          "#9c179e"
                        ],
                        [
                          0.4444444444444444,
                          "#bd3786"
                        ],
                        [
                          0.5555555555555556,
                          "#d8576b"
                        ],
                        [
                          0.6666666666666666,
                          "#ed7953"
                        ],
                        [
                          0.7777777777777778,
                          "#fb9f3a"
                        ],
                        [
                          0.8888888888888888,
                          "#fdca26"
                        ],
                        [
                          1,
                          "#f0f921"
                        ]
                      ]
                    },
                    "colorway": [
                      "#636efa",
                      "#EF553B",
                      "#00cc96",
                      "#ab63fa",
                      "#FFA15A",
                      "#19d3f3",
                      "#FF6692",
                      "#B6E880",
                      "#FF97FF",
                      "#FECB52"
                    ],
                    "font": {
                      "color": "#2a3f5f"
                    },
                    "geo": {
                      "bgcolor": "white",
                      "lakecolor": "white",
                      "landcolor": "#E5ECF6",
                      "showlakes": true,
                      "showland": true,
                      "subunitcolor": "white"
                    },
                    "hoverlabel": {
                      "align": "left"
                    },
                    "hovermode": "closest",
                    "mapbox": {
                      "style": "light"
                    },
                    "paper_bgcolor": "white",
                    "plot_bgcolor": "#E5ECF6",
                    "polar": {
                      "angularaxis": {
                        "gridcolor": "white",
                        "linecolor": "white",
                        "ticks": ""
                      },
                      "bgcolor": "#E5ECF6",
                      "radialaxis": {
                        "gridcolor": "white",
                        "linecolor": "white",
                        "ticks": ""
                      }
                    },
                    "scene": {
                      "xaxis": {
                        "backgroundcolor": "#E5ECF6",
                        "gridcolor": "white",
                        "gridwidth": 2,
                        "linecolor": "white",
                        "showbackground": true,
                        "ticks": "",
                        "zerolinecolor": "white"
                      },
                      "yaxis": {
                        "backgroundcolor": "#E5ECF6",
                        "gridcolor": "white",
                        "gridwidth": 2,
                        "linecolor": "white",
                        "showbackground": true,
                        "ticks": "",
                        "zerolinecolor": "white"
                      },
                      "zaxis": {
                        "backgroundcolor": "#E5ECF6",
                        "gridcolor": "white",
                        "gridwidth": 2,
                        "linecolor": "white",
                        "showbackground": true,
                        "ticks": "",
                        "zerolinecolor": "white"
                      }
                    },
                    "shapedefaults": {
                      "line": {
                        "color": "#2a3f5f"
                      }
                    },
                    "ternary": {
                      "aaxis": {
                        "gridcolor": "white",
                        "linecolor": "white",
                        "ticks": ""
                      },
                      "baxis": {
                        "gridcolor": "white",
                        "linecolor": "white",
                        "ticks": ""
                      },
                      "bgcolor": "#E5ECF6",
                      "caxis": {
                        "gridcolor": "white",
                        "linecolor": "white",
                        "ticks": ""
                      }
                    },
                    "title": {
                      "x": 0.05
                    },
                    "xaxis": {
                      "automargin": true,
                      "gridcolor": "white",
                      "linecolor": "white",
                      "ticks": "",
                      "title": {
                        "standoff": 15
                      },
                      "zerolinecolor": "white",
                      "zerolinewidth": 2
                    },
                    "yaxis": {
                      "automargin": true,
                      "gridcolor": "white",
                      "linecolor": "white",
                      "ticks": "",
                      "title": {
                        "standoff": 15
                      },
                      "zerolinecolor": "white",
                      "zerolinewidth": 2
                    }
                  }
                },
                "title": {
                  "text": "Gráfico 3D de x^2 + y^2"
                }
              }
            }
          },
          "metadata": {},
          "output_type": "display_data"
        }
      ],
      "source": [
        "import plotly.graph_objs as go\n",
        "\n",
        "# Crear una malla de puntos en el dominio deseado\n",
        "x_vals = y_vals = list(range(-5, 6))\n",
        "x_grid, y_grid = np.meshgrid(x_vals, y_vals)\n",
        "\n",
        "# Calcular los valores de z utilizando la función\n",
        "z_vals = x_grid**2 + y_grid**2\n",
        "\n",
        "# Crear la figura 3D\n",
        "fig = go.Figure(data=[go.Surface(z=z_vals, x=x_grid, y=y_grid)])\n",
        "\n",
        "# Configurar el título y los nombres de los ejes\n",
        "fig.update_layout(title='Gráfico 3D de x^2 + y^2', scene=dict(xaxis_title='X', yaxis_title='Y', zaxis_title='Z'))\n",
        "\n",
        "# Mostrar la figura\n",
        "fig.show()"
      ]
    }
  ],
  "metadata": {
    "colab": {
      "provenance": []
    },
    "kernelspec": {
      "display_name": "Python 3",
      "name": "python3"
    },
    "language_info": {
      "codemirror_mode": {
        "name": "ipython",
        "version": 3
      },
      "file_extension": ".py",
      "mimetype": "text/x-python",
      "name": "python",
      "nbconvert_exporter": "python",
      "pygments_lexer": "ipython3",
      "version": "3.10.12"
    }
  },
  "nbformat": 4,
  "nbformat_minor": 0
}
